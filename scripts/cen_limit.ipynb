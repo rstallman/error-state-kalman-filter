{
 "cells": [
  {
   "cell_type": "markdown",
   "id": "985d0323",
   "metadata": {},
   "source": [
    "### Monty Hall Problem Simulation"
   ]
  },
  {
   "cell_type": "code",
   "execution_count": 15,
   "id": "1c9ab09e",
   "metadata": {},
   "outputs": [
    {
     "name": "stdout",
     "output_type": "stream",
     "text": [
      "Win rate when switching: 66.87%\n",
      "Win rate when staying: 33.32%\n"
     ]
    }
   ],
   "source": [
    "import random\n",
    "\n",
    "def simulate_monty_hall(num_trials=10000, switch=True):\n",
    "    wins = 0\n",
    "\n",
    "    for _ in range(num_trials):\n",
    "        # Doors setup: one has a car (True), the others have goats (False)\n",
    "        doors = [False, False, False]\n",
    "        car_position = random.randint(0, 2)\n",
    "        doors[car_position] = True\n",
    "\n",
    "        # Contestant makes an initial choice\n",
    "        initial_choice = random.randint(0, 2)\n",
    "\n",
    "        # Host reveals a goat door that isn't the contestant's choice or the car\n",
    "        possible_reveals = [i for i in range(3) if i != initial_choice and not doors[i]]\n",
    "        revealed_door = random.choice(possible_reveals)\n",
    "\n",
    "        # If switching, pick the remaining unopened door\n",
    "        if switch:\n",
    "            remaining_doors = [i for i in range(3) if i != initial_choice and i != revealed_door] \n",
    "            final_choice = remaining_doors[0]\n",
    "        else:\n",
    "            final_choice = initial_choice\n",
    "\n",
    "        # Count win if final choice is the car\n",
    "        if doors[final_choice]:\n",
    "            wins += 1\n",
    "\n",
    "    return wins / num_trials\n",
    "\n",
    "# Run the simulation\n",
    "trials = 100000\n",
    "switch_win_rate = simulate_monty_hall(trials, switch=True)\n",
    "stay_win_rate = simulate_monty_hall(trials, switch=False)\n",
    "\n",
    "print(f\"Win rate when switching: {switch_win_rate:.2%}\")\n",
    "print(f\"Win rate when staying: {stay_win_rate:.2%}\")\n"
   ]
  },
  {
   "cell_type": "code",
   "execution_count": 5,
   "id": "8aa3ed6b",
   "metadata": {},
   "outputs": [
    {
     "data": {
      "text/plain": [
       "[0, 2, 4, 6, 8]"
      ]
     },
     "execution_count": 5,
     "metadata": {},
     "output_type": "execute_result"
    }
   ],
   "source": [
    "xx = [i for i in range(10) if i % 2 == 0]\n",
    "xx"
   ]
  }
 ],
 "metadata": {
  "kernelspec": {
   "display_name": "Python 3",
   "language": "python",
   "name": "python3"
  },
  "language_info": {
   "codemirror_mode": {
    "name": "ipython",
    "version": 3
   },
   "file_extension": ".py",
   "mimetype": "text/x-python",
   "name": "python",
   "nbconvert_exporter": "python",
   "pygments_lexer": "ipython3",
   "version": "3.10.10"
  }
 },
 "nbformat": 4,
 "nbformat_minor": 5
}
